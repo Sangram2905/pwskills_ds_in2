{
  "nbformat": 4,
  "nbformat_minor": 0,
  "metadata": {
    "colab": {
      "provenance": [],
      "authorship_tag": "ABX9TyPy5qHZ5nuSt1SjVvziN77L",
      "include_colab_link": true
    },
    "kernelspec": {
      "name": "python3",
      "display_name": "Python 3"
    },
    "language_info": {
      "name": "python"
    }
  },
  "cells": [
    {
      "cell_type": "markdown",
      "metadata": {
        "id": "view-in-github",
        "colab_type": "text"
      },
      "source": [
        "<a href=\"https://colab.research.google.com/github/Sangram2905/pwskills_ds_in2/blob/main/a3.ipynb\" target=\"_parent\"><img src=\"https://colab.research.google.com/assets/colab-badge.svg\" alt=\"Open In Colab\"/></a>"
      ]
    },
    {
      "cell_type": "code",
      "source": [
        "\"\"\"\n",
        "Q1. Which keyword is used to create a function? Create a function to return a list of odd numbers in the\n",
        "range of 1 to 25.\n",
        "\n",
        "\"\"\"\n",
        "\n",
        "# def is the key word use to create function\n",
        "\n",
        "def add():\n",
        "    l =[]\n",
        "    for n in range(1,26):\n",
        "        if n%2 != 0:\n",
        "            l.append(n)\n",
        "    return l\n",
        "        \n",
        "print(l)"
      ],
      "metadata": {
        "id": "ye2pmL38fOIr"
      },
      "execution_count": null,
      "outputs": []
    },
    {
      "cell_type": "code",
      "source": [
        "\"\"\"Q2. Why *args and **kwargs is used in some functions? Create a function each for *args and **kwargs to\n",
        "demonstrate their use.\"\"\"\n",
        "#*args and **kwargs use as multipal parameters in *args is simple non key word base and ** is key word base parameters to pass arguments in functions \n",
        "\n",
        "print(\"*args \")\n",
        "def myFun1(arg, *args):\n",
        "    print(\"First argument :\", arg)\n",
        "    for argn in args:\n",
        "        print(\"Next argument through *args :\", argn)\n",
        " \n",
        " \n",
        "myFun1('Hello', 'Welcome', 'to', 'PSskills')\n",
        "\n",
        "\n",
        "print(\"**kwargs \")\n",
        "def myFun2(**kwargs):\n",
        "    for key, value in kwargs.items():\n",
        "        print(\"%s == %s\" % (key, value))\n",
        " \n",
        " \n",
        "# Driver code\n",
        "myFun2(first_key='vale1', sec_key='vale2', last_key='vale3')"
      ],
      "metadata": {
        "id": "b3ZeqP_5fPY7"
      },
      "execution_count": null,
      "outputs": []
    },
    {
      "cell_type": "code",
      "source": [
        "\"\"\"Q3. What is an iterator in python? Name the method used to initialise the iterator object and the method\n",
        "used for iteration. Use these methods to print the first five elements of the given list [2, 4, 6, 8, 10, 12, 14, 16,\n",
        "18, 20].\"\"\"\n",
        "\n",
        "#a type of method whre data output is contable format \n",
        "# We can us iter() syntax as method name\n",
        "l = [2, 4, 6, 8, 10, 12, 14, 16,18, 20]\n",
        "itr = iter(l)\n",
        "print(next(itr))\n",
        "print(next(itr))\n",
        "print(next(itr))\n",
        "print(next(itr))\n",
        "print(next(itr))\n",
        "\n"
      ],
      "metadata": {
        "id": "ajdA9N6xfR8i"
      },
      "execution_count": null,
      "outputs": []
    },
    {
      "cell_type": "code",
      "source": [
        "\"\"\"Q4. What is a generator function in python? Why yield keyword is used? Give an example of a generator\n",
        "function.\"\"\"\n",
        "\n",
        "# when we use the yield key word in normal function and when function us in genrate a value \n",
        "\n",
        "def generatorFun():\n",
        "    yield 1           \n",
        "    yield 2           \n",
        "    yield 3           \n",
        "  \n",
        "for value in generatorFun():\n",
        "    print(value)"
      ],
      "metadata": {
        "id": "YejnM0XZfTrh"
      },
      "execution_count": null,
      "outputs": []
    },
    {
      "cell_type": "code",
      "source": [
        "\"\"\"Q5. Create a generator function for prime numbers less than 1000. Use the next() method to print the\n",
        "first 20 prime numbers.\"\"\"\n",
        "\n",
        "def genPrimefun():\n",
        "    yield 2\n",
        "    p =[2]\n",
        "    num = 3\n",
        "    while num<1000:\n",
        "        genPrime =True\n",
        "        for pn in p:\n",
        "            if pn*pn > num:\n",
        "                break\n",
        "            if num%pn ==0:\n",
        "                genPrime = False\n",
        "                break\n",
        "\n",
        "        if genPrime:\n",
        "            yield num\n",
        "            p.append(num)\n",
        "        num = num+2\n",
        "\n",
        "prime_gen = genPrimefun()\n",
        "for n in range(20):\n",
        "    print(next(prime_gen))"
      ],
      "metadata": {
        "id": "dywAZQJVfVmS"
      },
      "execution_count": null,
      "outputs": []
    }
  ]
}