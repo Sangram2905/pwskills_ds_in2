{
  "nbformat": 4,
  "nbformat_minor": 0,
  "metadata": {
    "colab": {
      "provenance": [],
      "authorship_tag": "ABX9TyOYHs2xGfQ9S0H8v86nUJPs",
      "include_colab_link": true
    },
    "kernelspec": {
      "name": "python3",
      "display_name": "Python 3"
    },
    "language_info": {
      "name": "python"
    }
  },
  "cells": [
    {
      "cell_type": "markdown",
      "metadata": {
        "id": "view-in-github",
        "colab_type": "text"
      },
      "source": [
        "<a href=\"https://colab.research.google.com/github/Sangram2905/pwskills_ds_in2/blob/main/a4c.ipynb\" target=\"_parent\"><img src=\"https://colab.research.google.com/assets/colab-badge.svg\" alt=\"Open In Colab\"/></a>"
      ]
    },
    {
      "cell_type": "code",
      "source": [
        "#Note all the program snipit are  refer from from Veruous google search sites (*Copy)"
      ],
      "metadata": {
        "id": "ye2pmL38fOIr"
      },
      "execution_count": null,
      "outputs": []
    },
    {
      "cell_type": "code",
      "source": [],
      "metadata": {
        "id": "oM9jhhsqjxX0"
      },
      "execution_count": null,
      "outputs": []
    },
    {
      "cell_type": "code",
      "source": [
        "\"\"\"Q1. Create a python program to sort the given list of tuples based on integer value using a\n",
        "lambda function. [('Sachin Tendulkar', 34357), ('Ricky Ponting', 27483), ('Jack Kallis', 25534), ('Virat Kohli', 24936)]\"\"\"\n",
        "\n",
        "l1 = [('Sachin Tendulkar', 34357), ('Ricky Ponting', 27483), ('Jack Kallis', 25534), ('Virat Kohli', 24936)]\n",
        "\n",
        "data = sorted(l1, key = (lambda n: n[1]))\n",
        "\n",
        "print(data)\n",
        "\n",
        "*Copy"
      ],
      "metadata": {
        "colab": {
          "base_uri": "https://localhost:8080/"
        },
        "id": "Ef4sWJtkgRFq",
        "outputId": "de74df92-39f3-4d73-f5f2-318124742e37"
      },
      "execution_count": null,
      "outputs": [
        {
          "output_type": "stream",
          "name": "stdout",
          "text": [
            "[('Virat Kohli', 24936), ('Jack Kallis', 25534), ('Ricky Ponting', 27483), ('Sachin Tendulkar', 34357)]\n"
          ]
        }
      ]
    },
    {
      "cell_type": "code",
      "source": [
        "\"\"\"Q2. Write a Python Program to find the squares of all the numbers in the given list of integers using\n",
        "lambda and map functions.\n",
        "[1, 2, 3, 4, 5, 6, 7, 8, 9, 10]\"\"\"\n",
        "\n",
        "num_list = [1, 2, 3, 4, 5, 6, 7, 8, 9, 10]\n",
        "sq_lst = list(map(lambda n: n**2, num_list))\n",
        "\n",
        "print(sq_lst)\n",
        "\n",
        "*Copy"
      ],
      "metadata": {
        "colab": {
          "base_uri": "https://localhost:8080/"
        },
        "id": "7YRK-p3-g2bV",
        "outputId": "d4e363c8-ba01-471b-cf4a-e81f14f2fe67"
      },
      "execution_count": null,
      "outputs": [
        {
          "output_type": "stream",
          "name": "stdout",
          "text": [
            "[1, 4, 9, 16, 25, 36, 49, 64, 81, 100]\n"
          ]
        }
      ]
    },
    {
      "cell_type": "code",
      "source": [
        "\"\"\"Q3. Write a python program to convert the given list of integers into a tuple of strings. Use map and\n",
        "lambda functions\n",
        "Given String: [1, 2, 3, 4, 5, 6, 7, 8, 9, 10]\n",
        "Expected output: ('1', '2', '3', '4', '5', '6', '7', '8', '9', '10')\"\"\"\n",
        "\n",
        "num_lst = [1, 2, 3, 4, 5, 6, 7, 8, 9, 10]\n",
        "\n",
        "str_tuple = tuple(map(lambda x: str(x),num_lst))\n",
        "\n",
        "print(str_tuple)\n",
        "*Copy"
      ],
      "metadata": {
        "colab": {
          "base_uri": "https://localhost:8080/"
        },
        "id": "4N8FHiXKis9r",
        "outputId": "b0aa30db-5453-4fdc-844c-ff426f78c0c9"
      },
      "execution_count": null,
      "outputs": [
        {
          "output_type": "stream",
          "name": "stdout",
          "text": [
            "('1', '2', '3', '4', '5', '6', '7', '8', '9', '10')\n"
          ]
        }
      ]
    },
    {
      "cell_type": "code",
      "source": [
        "\"\"\"Q4. Write a python program using reduce function to compute the product of a list containing numbers\n",
        "from 1 to 25.\"\"\"\n",
        "\n",
        "from functools import reduce\n",
        "\n",
        "num_lst = list(range(1, 26))\n",
        "\n",
        "prod_lst = reduce(lambda x, y: x * y, num_lst)\n",
        "\n",
        "print((prod_lst))\n",
        "*Copy"
      ],
      "metadata": {
        "colab": {
          "base_uri": "https://localhost:8080/"
        },
        "id": "5VegrJhEjLkU",
        "outputId": "2510fe0e-abf2-43dc-dcaf-fa191c9cf07f"
      },
      "execution_count": null,
      "outputs": [
        {
          "output_type": "stream",
          "name": "stdout",
          "text": [
            "15511210043330985984000000\n"
          ]
        }
      ]
    },
    {
      "cell_type": "code",
      "source": [
        "\"\"\"Q5. Write a python program to filter the numbers in a given list that are divisible by 2 and 3 using the\n",
        "filter function.\n",
        "[2, 3, 6, 9, 27, 60, 90, 120, 55, 46]\"\"\"\n",
        "\n",
        "num_lst = [2, 3, 6, 9, 27, 60, 90, 120, 55, 46]\n",
        "\n",
        "list_2_3= list(filter(lambda x: x % 2 == 0 and x % 3 == 0, num_lst))\n",
        "\n",
        "print(list_2_3)\n",
        "*Copy"
      ],
      "metadata": {
        "colab": {
          "base_uri": "https://localhost:8080/"
        },
        "id": "KaJjjQ9AjyUa",
        "outputId": "d54b6d5d-4cc4-4110-cd8d-034a4fbb3610"
      },
      "execution_count": null,
      "outputs": [
        {
          "output_type": "stream",
          "name": "stdout",
          "text": [
            "[6, 60, 90, 120]\n"
          ]
        }
      ]
    },
    {
      "cell_type": "code",
      "source": [
        "\"\"\"Q6. Write a python program to find palindromes in the given list of strings using lambda and filter\n",
        "function.\n",
        "['python', 'php', 'aba', 'radar', 'level']\"\"\"\n",
        "\n",
        "words = ['python', 'php', 'aba', 'radar', 'level']\n",
        "\n",
        "palindromes = list(filter(lambda x: x == x[::-1], words))\n",
        "\n",
        "print(palindromes)\n",
        "*Copy"
      ],
      "metadata": {
        "id": "bEaursHHkM9z"
      },
      "execution_count": null,
      "outputs": []
    }
  ]
}