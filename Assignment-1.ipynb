{
 "cells": [
  {
   "cell_type": "code",
   "execution_count": 2,
   "metadata": {},
   "outputs": [
    {
     "name": "stdout",
     "output_type": "stream",
     "text": [
      "<class 'str'>\n",
      "<class 'list'>\n",
      "<class 'float'>\n",
      "<class 'tuple'>\n"
     ]
    }
   ],
   "source": [
    "\"\"\"Q1. Create one variable containing following type of data:\n",
    "(i) string\n",
    "(ii) list\n",
    "(iii) float\n",
    "(iv) tuple\"\"\"\n",
    "\n",
    "#Ans:-\n",
    "#string\n",
    "name = \"Sangram\"\n",
    "#list\n",
    "number_list =[1,2,3,4,5,6] \n",
    "#float\n",
    "num_float = 1.01234\n",
    "#tuple\n",
    "ver_tuple = (1,2)\n",
    "\n",
    "print(type(name))\n",
    "print(type(number_list))\n",
    "print(type(num_float))\n",
    "print(type(ver_tuple))"
   ]
  },
  {
   "cell_type": "code",
   "execution_count": 6,
   "metadata": {},
   "outputs": [
    {
     "name": "stdout",
     "output_type": "stream",
     "text": [
      "<class 'str'>\n",
      "<class 'str'>\n",
      "<class 'list'>\n",
      "<class 'float'>\n"
     ]
    }
   ],
   "source": [
    "\"\"\"Q2. Given are some following variables containing data:\n",
    "(i) var1 = ‘ ‘\n",
    "(ii) var2 = ‘[ DS , ML , Python]’\n",
    "(iii) var3 = [ ‘DS’ , ’ML’ , ‘Python’ ]\n",
    "(iv) var4 = 1.\n",
    "\"\"\"\n",
    "#Ans:-\n",
    "var1 = '' #String\n",
    "var2 = '[ DS , ML , Python]'#String\n",
    "var3 = [ 'DS' , 'ML' , 'Python' ] #List\n",
    "var4 = 1. #Float\n",
    "\n",
    "print(type(var1))\n",
    "print(type(var2))\n",
    "print(type(var3))\n",
    "print(type(var4))\n"
   ]
  },
  {
   "cell_type": "code",
   "execution_count": null,
   "metadata": {},
   "outputs": [],
   "source": [
    "\"\"\"Q3. Explain the use of the following operators using an example:\n",
    "(i) /\n",
    "(ii) %\n",
    "(iii) //\n",
    "(iv) **\n",
    "\"\"\"\n",
    "\n",
    "#Ans:\n",
    "#(i) / operator use to math or Arithmetic operators operation for divide \n",
    "num = 2/4 #ans num = 2\n",
    "\n",
    "#(ii) % operator use to math or Arithmetic operators operation for Modulus\n",
    "\n",
    "num2 = 99%100 #ans num2 = 99\n",
    "\n",
    "#(iii) // operator use to math or Arithmetic operators operation for Floor division\n",
    "\n",
    "num3 = 100//50 #ans = num3 = 2\n",
    "\n",
    "#(iv) ** operator use to math or Arithmetic operators operation for Exponentiation\n",
    "num4 = 2**2 #ans = num4 = 4\n",
    "\n"
   ]
  },
  {
   "cell_type": "code",
   "execution_count": 30,
   "metadata": {},
   "outputs": [
    {
     "name": "stdout",
     "output_type": "stream",
     "text": [
      "10\n",
      "D\n",
      "a\n",
      "t\n",
      "a\n",
      "S\n",
      "c\n",
      "i\n",
      "e\n",
      "n\n",
      "c\n"
     ]
    }
   ],
   "source": [
    "\"\"\"Q4. Create a list of length 10 of your choice containing multiple type of data. Using for loop print the\n",
    "element and its data type.\"\"\"\n",
    "\n",
    "string_list = \"DataScienc\"\n",
    "l2 =list(string_list)\n",
    "print(len(l2))\n",
    "for n in l2:\n",
    "    print(n)"
   ]
  },
  {
   "cell_type": "code",
   "execution_count": 19,
   "metadata": {},
   "outputs": [],
   "source": [
    "\"\"\"Q5. Using a while loop, verify if the number A is purely divisible by number B and if so then how many\n",
    "times it can be divisible.\"\"\"\n",
    "a = 400\n",
    "b = 88\n",
    "l1 =[]\n",
    "while True:\n",
    "    if a//b != 0:\n",
    "        break\n",
    "    elif a%b ==0:\n",
    "        l1.append(1)\n",
    "        print(\"Number a is divisable by b and its dvisible by {} times\".format(len(l1)))\n",
    "        break"
   ]
  },
  {
   "cell_type": "code",
   "execution_count": 20,
   "metadata": {},
   "outputs": [
    {
     "name": "stdout",
     "output_type": "stream",
     "text": [
      "Number 3 is divisable by 3\n",
      "Number 6 is divisable by 3\n",
      "Number 9 is divisable by 3\n",
      "Number 12 is divisable by 3\n",
      "Number 15 is divisable by 3\n",
      "Number 18 is divisable by 3\n",
      "Number 21 is divisable by 3\n",
      "Number 24 is divisable by 3\n"
     ]
    }
   ],
   "source": [
    "\"\"\"Create a list containing 25 int type data. Using for loop and if-else condition print if the element is\n",
    "divisible by 3 or not.\"\"\"\n",
    "\n",
    "l2= []\n",
    "for num in range(1,26):\n",
    "    l2.append(num)\n",
    "for n in l2:\n",
    "    if int(n)%3==0:\n",
    "        print(\"Number {} is divisable by 3\".format(int(n)))\n"
   ]
  },
  {
   "cell_type": "code",
   "execution_count": 25,
   "metadata": {},
   "outputs": [
    {
     "ename": "TypeError",
     "evalue": "'tuple' object does not support item assignment",
     "output_type": "error",
     "traceback": [
      "\u001b[0;31m---------------------------------------------------------------------------\u001b[0m",
      "\u001b[0;31mTypeError\u001b[0m                                 Traceback (most recent call last)",
      "Cell \u001b[0;32mIn[25], line 11\u001b[0m\n\u001b[1;32m      8\u001b[0m \u001b[38;5;66;03m#immutable data types are the data where we cant do operations like tupel as data cant be change \u001b[39;00m\n\u001b[1;32m      9\u001b[0m l3 \u001b[38;5;241m=\u001b[39m (\u001b[38;5;124m\"\u001b[39m\u001b[38;5;124msangram\u001b[39m\u001b[38;5;124m\"\u001b[39m,\u001b[38;5;124m\"\u001b[39m\u001b[38;5;124mphadke\u001b[39m\u001b[38;5;124m\"\u001b[39m)\n\u001b[0;32m---> 11\u001b[0m \u001b[43ml3\u001b[49m\u001b[43m[\u001b[49m\u001b[38;5;241;43m0\u001b[39;49m\u001b[43m]\u001b[49m \u001b[38;5;241m=\u001b[39m \u001b[38;5;124m\"\u001b[39m\u001b[38;5;124mS\u001b[39m\u001b[38;5;124m\"\u001b[39m \n",
      "\u001b[0;31mTypeError\u001b[0m: 'tuple' object does not support item assignment"
     ]
    }
   ],
   "source": [
    "\"\"\"Q7. What do you understand about mutable and immutable data types? Give examples for both showing\n",
    "this property.\"\"\"\n",
    "\n",
    "#mutable data types are the data where we can do operations of data manuplation like changing word\n",
    "l1 = \"sangram\"\n",
    "l2 = list(l1) \n",
    "l2[0] = \"S\"\n",
    "\n",
    "#immutable data types are the data where we cant do operations like tupel as data cant be change \n",
    "l3 = (\"sangram\",\"phadke\")\n",
    "\n",
    "l3[0] = \"S\" \n",
    "\n",
    "##Error given for l3"
   ]
  }
 ],
 "metadata": {
  "kernelspec": {
   "display_name": "Python 3.8.10 64-bit",
   "language": "python",
   "name": "python3"
  },
  "language_info": {
   "codemirror_mode": {
    "name": "ipython",
    "version": 3
   },
   "file_extension": ".py",
   "mimetype": "text/x-python",
   "name": "python",
   "nbconvert_exporter": "python",
   "pygments_lexer": "ipython3",
   "version": "3.8.10"
  },
  "orig_nbformat": 4,
  "vscode": {
   "interpreter": {
    "hash": "e7370f93d1d0cde622a1f8e1c04877d8463912d04d973331ad4851f04de6915a"
   }
  }
 },
 "nbformat": 4,
 "nbformat_minor": 2
}
