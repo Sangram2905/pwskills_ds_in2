{
  "nbformat": 4,
  "nbformat_minor": 0,
  "metadata": {
    "colab": {
      "provenance": [],
      "authorship_tag": "ABX9TyOUET+1S8d+wCrFzYYiUCo4",
      "include_colab_link": true
    },
    "kernelspec": {
      "name": "python3",
      "display_name": "Python 3"
    },
    "language_info": {
      "name": "python"
    }
  },
  "cells": [
    {
      "cell_type": "markdown",
      "metadata": {
        "id": "view-in-github",
        "colab_type": "text"
      },
      "source": [
        "<a href=\"https://colab.research.google.com/github/Sangram2905/pwskills_ds_in2/blob/main/a2.ipynb\" target=\"_parent\"><img src=\"https://colab.research.google.com/assets/colab-badge.svg\" alt=\"Open In Colab\"/></a>"
      ]
    },
    {
      "cell_type": "code",
      "execution_count": null,
      "metadata": {
        "id": "OaY-Vh7uenCb"
      },
      "outputs": [],
      "source": [
        "\"\"\"Q1. How do you comment code in Python? What are the different types of comments?\"\"\"\n",
        "\n",
        "\"\"\" Using # & \" 3 times symbol also use as comment\"\"\"  "
      ]
    },
    {
      "cell_type": "code",
      "source": [
        "\"\"\"Q2. What are variables in Python? How do you declare and assign values to variables?\"\"\"\n",
        "\n",
        "# Variable is a string and referencing space of memory, a = 12 is  example whre Variable is assign by = Equel operator."
      ],
      "metadata": {
        "id": "AspaM2DZepp8"
      },
      "execution_count": null,
      "outputs": []
    },
    {
      "cell_type": "code",
      "source": [
        "\"\"\"Q3. How do you convert one data type to another in Python?\"\"\"\n",
        "# Using functions and methods we can convert one data type to another  e.g :   a = float(12) # gives ouput of 12.0"
      ],
      "metadata": {
        "id": "05pz_D1DesIL"
      },
      "execution_count": null,
      "outputs": []
    },
    {
      "cell_type": "code",
      "source": [
        "\"\"\"Q4. How do you write and execute a Python script from the command line?\"\"\"\n",
        "\n",
        "# create an Python program file save it to local PC, \n",
        "# open a terminal or command prompt and navigate to the directory where python file is stored, \n",
        "# Run Pyhton by typing Python\n",
        "# Run Pyhton file by name like firstProg.py"
      ],
      "metadata": {
        "id": "L95-V_KaetYK"
      },
      "execution_count": null,
      "outputs": []
    },
    {
      "cell_type": "code",
      "source": [
        "\"\"\"Q5. Given a list my_list = [1, 2, 3, 4, 5], write the code to slice the list and obtain the sub-list [2, 3].\"\"\"\n",
        "\n",
        "my_list = [1, 2, 3, 4, 5]\n",
        "sub_list = my_list[1:3]\n",
        "print(sub_list)"
      ],
      "metadata": {
        "id": "yURpr0kmeu1J"
      },
      "execution_count": null,
      "outputs": []
    },
    {
      "cell_type": "code",
      "source": [
        "\"\"\"Q6. What is a complex number in mathematics, and how is it represented in Python?\"\"\"\n",
        "#  Combination of real and imaginary number same as maths We can represnt a =4+5j\n",
        "\n"
      ],
      "metadata": {
        "id": "jqWIgrw9ewoa"
      },
      "execution_count": null,
      "outputs": []
    },
    {
      "cell_type": "code",
      "source": [
        "\"\"\"Q7. What is the correct way to declare a variable named age and assign the value 25 to it?\"\"\"\n",
        "\n",
        "age = 25 #simple way\n",
        "\n",
        "#we can also write as age =int(25)"
      ],
      "metadata": {
        "id": "jOwebjREexy6"
      },
      "execution_count": null,
      "outputs": []
    },
    {
      "cell_type": "code",
      "source": [
        "\"\"\"Q8. Declare a variable named price and assign the value 9.99 to it. What data type does this variable\n",
        "belong to?\"\"\"\n",
        "\n",
        "price = 9.99 #simple way\n",
        "print(type(price))\n",
        "#we can also write as age =float(25)\n",
        "\n",
        "#data type of price variable is Float\n",
        "\n"
      ],
      "metadata": {
        "id": "tI5xpG9sezxh"
      },
      "execution_count": null,
      "outputs": []
    },
    {
      "cell_type": "code",
      "source": [
        "\"\"\"Q9. Create a variable named name and assign your full name to it as a string. How would you print the\n",
        "value of this variable?\"\"\"\n",
        "\n",
        "name = \"Sangram Phadke\"#simple way\n",
        "\n",
        "#we can also write as name = str(\"Sangram Phadke\")\n",
        "print(name)\n"
      ],
      "metadata": {
        "id": "usMNw6UDe2RJ"
      },
      "execution_count": null,
      "outputs": []
    },
    {
      "cell_type": "code",
      "source": [
        "\"\"\"Q10. Given the string \"Hello, World!\", extract the substring \"World\".\"\"\"\n",
        "\n",
        "s = \"Hello, World!\"\n",
        "ss = s.split(',')\n",
        "print(ss[1])"
      ],
      "metadata": {
        "id": "IyW3VusZe25R"
      },
      "execution_count": null,
      "outputs": []
    },
    {
      "cell_type": "code",
      "source": [
        "\"\"\"Q11. Create a variable named \"is_student\" and assign it a boolean value indicating whether you are\n",
        "currently a student or not.\"\"\"\n",
        "is_student = True\n",
        "\n"
      ],
      "metadata": {
        "id": "jDP12GA7e5aQ"
      },
      "execution_count": null,
      "outputs": []
    }
  ]
}